{
 "cells": [
  {
   "cell_type": "code",
   "execution_count": null,
   "source": [
    "# # 沪深股票\r\n",
    "\r\n",
    "# from data_gather.stock import *\r\n",
    "# dg = Data_stock()\r\n",
    "# dg.stock_update()\r\n"
   ],
   "outputs": [],
   "metadata": {}
  },
  {
   "cell_type": "code",
   "execution_count": null,
   "source": [
    "# # 美股 - 美股数据还没有获取\r\n",
    "\r\n",
    "# from data_gather.us_stock import *\r\n",
    "# dg = Data_us_stock()\r\n",
    "# dg.stock_update(start='19900101', end='20210831')"
   ],
   "outputs": [],
   "metadata": {}
  },
  {
   "cell_type": "code",
   "execution_count": 1,
   "source": [
    "# # 宏观\r\n",
    "\r\n",
    "# from data_gather.macro import *\r\n",
    "# dg = Data_macro()\r\n",
    "# dg.stock_update()\r\n"
   ],
   "outputs": [
    {
     "output_type": "execute_result",
     "data": {
      "text/plain": [
       "('20210901', '20210904')"
      ]
     },
     "metadata": {},
     "execution_count": 1
    }
   ],
   "metadata": {}
  },
  {
   "cell_type": "code",
   "execution_count": null,
   "source": [],
   "outputs": [],
   "metadata": {}
  }
 ],
 "metadata": {
  "orig_nbformat": 4,
  "language_info": {
   "name": "python",
   "version": "3.8.8",
   "mimetype": "text/x-python",
   "codemirror_mode": {
    "name": "ipython",
    "version": 3
   },
   "pygments_lexer": "ipython3",
   "nbconvert_exporter": "python",
   "file_extension": ".py"
  },
  "kernelspec": {
   "name": "python3",
   "display_name": "Python 3.8.8 64-bit"
  },
  "interpreter": {
   "hash": "b3ba2566441a7c06988d0923437866b63cedc61552a5af99d1f4fb67d367b25f"
  }
 },
 "nbformat": 4,
 "nbformat_minor": 2
}